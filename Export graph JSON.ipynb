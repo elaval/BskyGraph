{
 "cells": [
  {
   "cell_type": "code",
   "execution_count": 1,
   "id": "ced6bada",
   "metadata": {},
   "outputs": [
    {
     "name": "stdout",
     "output_type": "stream",
     "text": [
      "JSON file generated: user_data_with_connections.json\n"
     ]
    }
   ],
   "source": [
    "import pickle\n",
    "import json\n",
    "\n",
    "# Load the graph data\n",
    "GRAPH_FILE = 'user_graph.pkl'\n",
    "with open(GRAPH_FILE, 'rb') as f:\n",
    "    graph_data = pickle.load(f)\n",
    "\n",
    "# Prepare the list of user records\n",
    "user_records = []\n",
    "\n",
    "for user_handle, data in graph_data.items():\n",
    "    user_record = {\n",
    "        'handle': user_handle,\n",
    "        'avatar_url': data.get('avatar_url', ''),\n",
    "        'followers_count': data.get('followers_count', 0),\n",
    "        'connections': data.get('connections', [])\n",
    "    }\n",
    "    user_records.append(user_record)\n",
    "\n",
    "# Save the records to a JSON file\n",
    "with open('user_data_with_connections.json', 'w', encoding='utf-8') as f:\n",
    "    json.dump(user_records, f, ensure_ascii=False, indent=4)\n",
    "\n",
    "print(\"JSON file generated: user_data_with_connections.json\")\n"
   ]
  },
  {
   "cell_type": "code",
   "execution_count": null,
   "id": "13441c85",
   "metadata": {},
   "outputs": [],
   "source": []
  }
 ],
 "metadata": {
  "kernelspec": {
   "display_name": "Python 3 (ipykernel)",
   "language": "python",
   "name": "python3"
  },
  "language_info": {
   "codemirror_mode": {
    "name": "ipython",
    "version": 3
   },
   "file_extension": ".py",
   "mimetype": "text/x-python",
   "name": "python",
   "nbconvert_exporter": "python",
   "pygments_lexer": "ipython3",
   "version": "3.11.7"
  }
 },
 "nbformat": 4,
 "nbformat_minor": 5
}
